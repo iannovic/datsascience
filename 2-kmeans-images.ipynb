{
 "cells": [
  {
   "cell_type": "markdown",
   "metadata": {},
   "source": [
    "# K-Means using images\n",
    "In this part, we’ll implement kmeans to compress an image. The image that we’ll be working on is X by X by 3. Therefore, for each pixel location we would have 3 8-bit integers that specify the red, green, and blue intensity values. Our goal is to reduce the number of colors to K and represent (compress) the photo using those K colors only.\n",
    "\n",
    "Source: https://towardsdatascience.com/k-means-clustering-algorithm-applications-evaluation-methods-and-drawbacks-aa03e644b48a"
   ]
  },
  {
   "cell_type": "code",
   "execution_count": null,
   "metadata": {},
   "outputs": [],
   "source": [
    "# Modules\n",
    "# Run this every first each time you reset the kernel.\n",
    "import matplotlib.pyplot as plt\n",
    "import numpy\n",
    "from matplotlib.image import imread\n",
    "import pandas as pd\n",
    "\n",
    "from sklearn.datasets.samples_generator import (make_blobs,\n",
    "                                                make_circles,\n",
    "                                                make_moons)\n",
    "from sklearn.cluster import KMeans, SpectralClustering\n",
    "from sklearn.preprocessing import StandardScaler\n",
    "from sklearn.metrics import silhouette_samples, silhouette_score\n",
    "\n",
    "import numpy as np\n",
    "import matplotlib.cm as cm\n",
    "import matplotlib.pyplot as plt\n",
    "import matplotlib.cbook as cbook\n",
    "from matplotlib.path import Path\n",
    "from matplotlib.patches import PathPatch\n",
    "from pylab import *\n",
    "import seaborn as sns\n",
    "\n",
    "from PIL import Image\n",
    "import requests\n",
    "from io import BytesIO"
   ]
  },
  {
   "cell_type": "code",
   "execution_count": null,
   "metadata": {},
   "outputs": [],
   "source": [
    "#find a URL on the internet you want to import and test on.\n",
    "#ONLY use this with smaller images! try to keep them under 400x400 pixels, otherwise it will take\n",
    "#a while to run the algorithm.'\n",
    "#If you want to use the default images, then use the below cell ONLY.\n",
    "url=\"https://t1.ea.ltmcdn.com/en/razas/0/5/5/img_550_pembroke-welsh-corgi_0_600.jpg\"\n",
    "response = requests.get(url)\n",
    "img = Image.open(BytesIO(response.content))\n",
    "img = numpy.array(img)\n",
    "imshow(img)\n",
    "print(type(img))"
   ]
  },
  {
   "cell_type": "code",
   "execution_count": null,
   "metadata": {},
   "outputs": [],
   "source": [
    "# Read the image\n",
    "# use jpg name \"1-10\".jpg\n",
    "#1.jpg\n",
    "#2.jpg\n",
    "#3.jpg\n",
    "#4.jpg\n",
    "#NOTE: Only use this cell or the cell after. do not use both.\n",
    "img = imread('data/images/1.jpg')\n",
    "imshow(img)\n",
    "print(type(img))"
   ]
  },
  {
   "cell_type": "code",
   "execution_count": null,
   "metadata": {
    "scrolled": false
   },
   "outputs": [],
   "source": [
    "\n",
    "img_size = img.shape\n",
    "# Reshape it to be 2-dimension\n",
    "X = img.reshape(img_size[0] * img_size[1], img_size[2])\n",
    "\n",
    "# Run the Kmeans algorithm\n",
    "k = 10\n",
    "# note: set verbose=1 to see the iterations of K-Means.\n",
    "km = KMeans(n_clusters=k, verbose=0)\n",
    "km.fit(X)\n",
    "\n",
    "# Use the centroids to compress the image\n",
    "X_compressed = km.cluster_centers_[km.labels_]\n",
    "X_compressed = np.clip(X_compressed.astype('uint8'), 0, 255)\n",
    "\n",
    "# Reshape X_recovered to have the same dimension as the original image 128 * 128 * 3\n",
    "X_compressed = X_compressed.reshape(img_size[0], img_size[1], img_size[2])\n",
    "\n",
    "# Plot the original and the compressed image next to each other\n",
    "fig, ax = plt.subplots(1, 2, figsize = (12, 8))\n",
    "ax[0].imshow(img)\n",
    "ax[0].set_title('Original Image')\n",
    "ax[1].imshow(X_compressed)\n",
    "ax[1].set_title('Compressed Image ' + str(k) + ' colors')\n",
    "for ax in fig.axes:\n",
    "    ax.axis('off')\n",
    "plt.tight_layout();"
   ]
  }
 ],
 "metadata": {
  "kernelspec": {
   "display_name": "Python 3",
   "language": "python",
   "name": "python3"
  },
  "language_info": {
   "codemirror_mode": {
    "name": "ipython",
    "version": 3
   },
   "file_extension": ".py",
   "mimetype": "text/x-python",
   "name": "python",
   "nbconvert_exporter": "python",
   "pygments_lexer": "ipython3",
   "version": "3.7.4"
  }
 },
 "nbformat": 4,
 "nbformat_minor": 2
}
